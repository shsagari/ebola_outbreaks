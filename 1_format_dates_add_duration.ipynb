{
 "cells": [
  {
   "cell_type": "markdown",
   "metadata": {},
   "source": [
    "##Add the durations in days using start and end dates"
   ]
  },
  {
   "cell_type": "markdown",
   "metadata": {},
   "source": [
    "###Modified local (Shweta) dataset from the Humanitarian Data Exchange (https://data.hdx.rwlabs.org/)\n",
    "####I have previously added the \"Start date\" and \"End date\" columns manually"
   ]
  },
  {
   "cell_type": "code",
   "execution_count": 1,
   "metadata": {
    "collapsed": true
   },
   "outputs": [],
   "source": [
    "import pandas as pd\n",
    "import numpy as np"
   ]
  },
  {
   "cell_type": "code",
   "execution_count": 2,
   "metadata": {
    "collapsed": true
   },
   "outputs": [],
   "source": [
    "df_ebola = pd.read_csv(\"data/in/ebola-outbreaks-before-2014.csv\")"
   ]
  },
  {
   "cell_type": "code",
   "execution_count": 3,
   "metadata": {
    "collapsed": false
   },
   "outputs": [
    {
     "data": {
      "text/html": [
       "<div>\n",
       "<table border=\"1\" class=\"dataframe\">\n",
       "  <thead>\n",
       "    <tr style=\"text-align: right;\">\n",
       "      <th></th>\n",
       "      <th>Start date</th>\n",
       "      <th>End date</th>\n",
       "      <th>Year(s)</th>\n",
       "      <th>Country</th>\n",
       "      <th>Ebola subtype</th>\n",
       "      <th>Reported number of human cases</th>\n",
       "      <th>Reported number of deaths among cases</th>\n",
       "      <th>Reported % of deaths among cases</th>\n",
       "    </tr>\n",
       "  </thead>\n",
       "  <tbody>\n",
       "    <tr>\n",
       "      <th>0</th>\n",
       "      <td>2012-11-01</td>\n",
       "      <td>2013-01-31</td>\n",
       "      <td>November 2012-January 2013</td>\n",
       "      <td>Uganda</td>\n",
       "      <td>Sudan virus</td>\n",
       "      <td>6</td>\n",
       "      <td>3</td>\n",
       "      <td>0.500</td>\n",
       "    </tr>\n",
       "    <tr>\n",
       "      <th>1</th>\n",
       "      <td>2012-06-01</td>\n",
       "      <td>2012-11-30</td>\n",
       "      <td>June-November 2012</td>\n",
       "      <td>Democratic Republic of the Congo</td>\n",
       "      <td>Bundibugyo virus</td>\n",
       "      <td>36</td>\n",
       "      <td>13</td>\n",
       "      <td>0.361</td>\n",
       "    </tr>\n",
       "    <tr>\n",
       "      <th>2</th>\n",
       "      <td>2012-06-01</td>\n",
       "      <td>2012-10-31</td>\n",
       "      <td>June-October 2012</td>\n",
       "      <td>Uganda</td>\n",
       "      <td>Sudan virus</td>\n",
       "      <td>11</td>\n",
       "      <td>4</td>\n",
       "      <td>0.364</td>\n",
       "    </tr>\n",
       "    <tr>\n",
       "      <th>3</th>\n",
       "      <td>2011-05-01</td>\n",
       "      <td>2011-05-01</td>\n",
       "      <td>2011-05-01</td>\n",
       "      <td>Uganda</td>\n",
       "      <td>Sudan virus</td>\n",
       "      <td>1</td>\n",
       "      <td>1</td>\n",
       "      <td>1.000</td>\n",
       "    </tr>\n",
       "    <tr>\n",
       "      <th>4</th>\n",
       "      <td>2008-12-01</td>\n",
       "      <td>2009-02-28</td>\n",
       "      <td>December 2008-February 2009</td>\n",
       "      <td>Democratic Republic of the Congo</td>\n",
       "      <td>Zaire virus</td>\n",
       "      <td>32</td>\n",
       "      <td>15</td>\n",
       "      <td>0.470</td>\n",
       "    </tr>\n",
       "  </tbody>\n",
       "</table>\n",
       "</div>"
      ],
      "text/plain": [
       "   Start date    End date                      Year(s)  \\\n",
       "0  2012-11-01  2013-01-31   November 2012-January 2013   \n",
       "1  2012-06-01  2012-11-30           June-November 2012   \n",
       "2  2012-06-01  2012-10-31            June-October 2012   \n",
       "3  2011-05-01  2011-05-01                   2011-05-01   \n",
       "4  2008-12-01  2009-02-28  December 2008-February 2009   \n",
       "\n",
       "                            Country     Ebola subtype  \\\n",
       "0                            Uganda       Sudan virus   \n",
       "1  Democratic Republic of the Congo  Bundibugyo virus   \n",
       "2                            Uganda       Sudan virus   \n",
       "3                            Uganda       Sudan virus   \n",
       "4  Democratic Republic of the Congo       Zaire virus   \n",
       "\n",
       "   Reported number of human cases  Reported number of deaths among cases  \\\n",
       "0                               6                                      3   \n",
       "1                              36                                     13   \n",
       "2                              11                                      4   \n",
       "3                               1                                      1   \n",
       "4                              32                                     15   \n",
       "\n",
       "   Reported % of deaths among cases  \n",
       "0                             0.500  \n",
       "1                             0.361  \n",
       "2                             0.364  \n",
       "3                             1.000  \n",
       "4                             0.470  "
      ]
     },
     "execution_count": 3,
     "metadata": {},
     "output_type": "execute_result"
    }
   ],
   "source": [
    "df_ebola.head()"
   ]
  },
  {
   "cell_type": "code",
   "execution_count": 4,
   "metadata": {
    "collapsed": false
   },
   "outputs": [],
   "source": [
    "start, end = df_ebola[\"Start date\"][0], df_ebola[\"End date\"][0]"
   ]
  },
  {
   "cell_type": "code",
   "execution_count": 5,
   "metadata": {
    "collapsed": false
   },
   "outputs": [
    {
     "data": {
      "text/plain": [
       "Timedelta('91 days 00:00:00')"
      ]
     },
     "execution_count": 5,
     "metadata": {},
     "output_type": "execute_result"
    }
   ],
   "source": [
    "abs(pd.to_datetime(start) - pd.to_datetime(end))"
   ]
  },
  {
   "cell_type": "code",
   "execution_count": 7,
   "metadata": {
    "collapsed": false
   },
   "outputs": [
    {
     "name": "stdout",
     "output_type": "stream",
     "text": [
      "[Timestamp('2012-11-01 00:00:00'), Timestamp('2012-06-01 00:00:00')]\n"
     ]
    }
   ],
   "source": [
    "start_datetime, end_datetime = [], []\n",
    "for i in range(len(df_ebola)):\n",
    "    start_datetime.append(pd.to_datetime(df_ebola[\"Start date\"][i]))\n",
    "    end_datetime.append(pd.to_datetime(df_ebola[\"End date\"][i]))\n",
    "\n",
    "print (start_datetime[:2])"
   ]
  },
  {
   "cell_type": "code",
   "execution_count": 8,
   "metadata": {
    "collapsed": false
   },
   "outputs": [],
   "source": [
    "df_ebola.insert(0, \"Start_Datetime_new\", start_datetime)\n",
    "df_ebola.insert(2, \"End_Datetime_new\", end_datetime)"
   ]
  },
  {
   "cell_type": "code",
   "execution_count": 9,
   "metadata": {
    "collapsed": false
   },
   "outputs": [
    {
     "data": {
      "text/html": [
       "<div>\n",
       "<table border=\"1\" class=\"dataframe\">\n",
       "  <thead>\n",
       "    <tr style=\"text-align: right;\">\n",
       "      <th></th>\n",
       "      <th>Start_Datetime_new</th>\n",
       "      <th>Start date</th>\n",
       "      <th>End_Datetime_new</th>\n",
       "      <th>End date</th>\n",
       "      <th>Year(s)</th>\n",
       "      <th>Country</th>\n",
       "      <th>Ebola subtype</th>\n",
       "      <th>Reported number of human cases</th>\n",
       "      <th>Reported number of deaths among cases</th>\n",
       "      <th>Reported % of deaths among cases</th>\n",
       "    </tr>\n",
       "  </thead>\n",
       "  <tbody>\n",
       "    <tr>\n",
       "      <th>0</th>\n",
       "      <td>2012-11-01</td>\n",
       "      <td>2012-11-01</td>\n",
       "      <td>2013-01-31</td>\n",
       "      <td>2013-01-31</td>\n",
       "      <td>November 2012-January 2013</td>\n",
       "      <td>Uganda</td>\n",
       "      <td>Sudan virus</td>\n",
       "      <td>6</td>\n",
       "      <td>3</td>\n",
       "      <td>0.500</td>\n",
       "    </tr>\n",
       "    <tr>\n",
       "      <th>1</th>\n",
       "      <td>2012-06-01</td>\n",
       "      <td>2012-06-01</td>\n",
       "      <td>2012-11-30</td>\n",
       "      <td>2012-11-30</td>\n",
       "      <td>June-November 2012</td>\n",
       "      <td>Democratic Republic of the Congo</td>\n",
       "      <td>Bundibugyo virus</td>\n",
       "      <td>36</td>\n",
       "      <td>13</td>\n",
       "      <td>0.361</td>\n",
       "    </tr>\n",
       "    <tr>\n",
       "      <th>2</th>\n",
       "      <td>2012-06-01</td>\n",
       "      <td>2012-06-01</td>\n",
       "      <td>2012-10-31</td>\n",
       "      <td>2012-10-31</td>\n",
       "      <td>June-October 2012</td>\n",
       "      <td>Uganda</td>\n",
       "      <td>Sudan virus</td>\n",
       "      <td>11</td>\n",
       "      <td>4</td>\n",
       "      <td>0.364</td>\n",
       "    </tr>\n",
       "    <tr>\n",
       "      <th>3</th>\n",
       "      <td>2011-05-01</td>\n",
       "      <td>2011-05-01</td>\n",
       "      <td>2011-05-01</td>\n",
       "      <td>2011-05-01</td>\n",
       "      <td>2011-05-01</td>\n",
       "      <td>Uganda</td>\n",
       "      <td>Sudan virus</td>\n",
       "      <td>1</td>\n",
       "      <td>1</td>\n",
       "      <td>1.000</td>\n",
       "    </tr>\n",
       "    <tr>\n",
       "      <th>4</th>\n",
       "      <td>2008-12-01</td>\n",
       "      <td>2008-12-01</td>\n",
       "      <td>2009-02-28</td>\n",
       "      <td>2009-02-28</td>\n",
       "      <td>December 2008-February 2009</td>\n",
       "      <td>Democratic Republic of the Congo</td>\n",
       "      <td>Zaire virus</td>\n",
       "      <td>32</td>\n",
       "      <td>15</td>\n",
       "      <td>0.470</td>\n",
       "    </tr>\n",
       "  </tbody>\n",
       "</table>\n",
       "</div>"
      ],
      "text/plain": [
       "  Start_Datetime_new  Start date End_Datetime_new    End date  \\\n",
       "0         2012-11-01  2012-11-01       2013-01-31  2013-01-31   \n",
       "1         2012-06-01  2012-06-01       2012-11-30  2012-11-30   \n",
       "2         2012-06-01  2012-06-01       2012-10-31  2012-10-31   \n",
       "3         2011-05-01  2011-05-01       2011-05-01  2011-05-01   \n",
       "4         2008-12-01  2008-12-01       2009-02-28  2009-02-28   \n",
       "\n",
       "                       Year(s)                           Country  \\\n",
       "0   November 2012-January 2013                            Uganda   \n",
       "1           June-November 2012  Democratic Republic of the Congo   \n",
       "2            June-October 2012                            Uganda   \n",
       "3                   2011-05-01                            Uganda   \n",
       "4  December 2008-February 2009  Democratic Republic of the Congo   \n",
       "\n",
       "      Ebola subtype  Reported number of human cases  \\\n",
       "0       Sudan virus                               6   \n",
       "1  Bundibugyo virus                              36   \n",
       "2       Sudan virus                              11   \n",
       "3       Sudan virus                               1   \n",
       "4       Zaire virus                              32   \n",
       "\n",
       "   Reported number of deaths among cases  Reported % of deaths among cases  \n",
       "0                                      3                             0.500  \n",
       "1                                     13                             0.361  \n",
       "2                                      4                             0.364  \n",
       "3                                      1                             1.000  \n",
       "4                                     15                             0.470  "
      ]
     },
     "execution_count": 9,
     "metadata": {},
     "output_type": "execute_result"
    }
   ],
   "source": [
    "df_ebola.head()"
   ]
  },
  {
   "cell_type": "code",
   "execution_count": 12,
   "metadata": {
    "collapsed": false
   },
   "outputs": [
    {
     "name": "stdout",
     "output_type": "stream",
     "text": [
      "[Timedelta('91 days 00:00:00'), Timedelta('182 days 00:00:00'), Timedelta('152 days 00:00:00')]\n"
     ]
    }
   ],
   "source": [
    "duration = []\n",
    "for i in range(len(df_ebola)):\n",
    "    duration.append(abs(df_ebola[\"Start_Datetime_new\"][i] - df_ebola[\"End_Datetime_new\"][i]))\n",
    "    \n",
    "print (duration[:3])"
   ]
  },
  {
   "cell_type": "code",
   "execution_count": 13,
   "metadata": {
    "collapsed": false
   },
   "outputs": [],
   "source": [
    "#print duration[0]\n",
    "\n",
    "## Get the number of days from thee \"duration\" time deltas:\n",
    "duration_d = [x / np.timedelta64(1, 'D') for x in duration]\n",
    "\n",
    "#print duration_d[0]"
   ]
  },
  {
   "cell_type": "code",
   "execution_count": 14,
   "metadata": {
    "collapsed": true
   },
   "outputs": [],
   "source": [
    "df_ebola.insert(4, \"Duration (days)\", duration_d)"
   ]
  },
  {
   "cell_type": "code",
   "execution_count": 15,
   "metadata": {
    "collapsed": false
   },
   "outputs": [
    {
     "data": {
      "text/html": [
       "<div>\n",
       "<table border=\"1\" class=\"dataframe\">\n",
       "  <thead>\n",
       "    <tr style=\"text-align: right;\">\n",
       "      <th></th>\n",
       "      <th>Start_Datetime_new</th>\n",
       "      <th>Start date</th>\n",
       "      <th>End_Datetime_new</th>\n",
       "      <th>End date</th>\n",
       "      <th>Duration (days)</th>\n",
       "      <th>Year(s)</th>\n",
       "      <th>Country</th>\n",
       "      <th>Ebola subtype</th>\n",
       "      <th>Reported number of human cases</th>\n",
       "      <th>Reported number of deaths among cases</th>\n",
       "      <th>Reported % of deaths among cases</th>\n",
       "    </tr>\n",
       "  </thead>\n",
       "  <tbody>\n",
       "    <tr>\n",
       "      <th>0</th>\n",
       "      <td>2012-11-01</td>\n",
       "      <td>2012-11-01</td>\n",
       "      <td>2013-01-31</td>\n",
       "      <td>2013-01-31</td>\n",
       "      <td>91.0</td>\n",
       "      <td>November 2012-January 2013</td>\n",
       "      <td>Uganda</td>\n",
       "      <td>Sudan virus</td>\n",
       "      <td>6</td>\n",
       "      <td>3</td>\n",
       "      <td>0.500</td>\n",
       "    </tr>\n",
       "    <tr>\n",
       "      <th>1</th>\n",
       "      <td>2012-06-01</td>\n",
       "      <td>2012-06-01</td>\n",
       "      <td>2012-11-30</td>\n",
       "      <td>2012-11-30</td>\n",
       "      <td>182.0</td>\n",
       "      <td>June-November 2012</td>\n",
       "      <td>Democratic Republic of the Congo</td>\n",
       "      <td>Bundibugyo virus</td>\n",
       "      <td>36</td>\n",
       "      <td>13</td>\n",
       "      <td>0.361</td>\n",
       "    </tr>\n",
       "    <tr>\n",
       "      <th>2</th>\n",
       "      <td>2012-06-01</td>\n",
       "      <td>2012-06-01</td>\n",
       "      <td>2012-10-31</td>\n",
       "      <td>2012-10-31</td>\n",
       "      <td>152.0</td>\n",
       "      <td>June-October 2012</td>\n",
       "      <td>Uganda</td>\n",
       "      <td>Sudan virus</td>\n",
       "      <td>11</td>\n",
       "      <td>4</td>\n",
       "      <td>0.364</td>\n",
       "    </tr>\n",
       "    <tr>\n",
       "      <th>3</th>\n",
       "      <td>2011-05-01</td>\n",
       "      <td>2011-05-01</td>\n",
       "      <td>2011-05-01</td>\n",
       "      <td>2011-05-01</td>\n",
       "      <td>0.0</td>\n",
       "      <td>2011-05-01</td>\n",
       "      <td>Uganda</td>\n",
       "      <td>Sudan virus</td>\n",
       "      <td>1</td>\n",
       "      <td>1</td>\n",
       "      <td>1.000</td>\n",
       "    </tr>\n",
       "    <tr>\n",
       "      <th>4</th>\n",
       "      <td>2008-12-01</td>\n",
       "      <td>2008-12-01</td>\n",
       "      <td>2009-02-28</td>\n",
       "      <td>2009-02-28</td>\n",
       "      <td>89.0</td>\n",
       "      <td>December 2008-February 2009</td>\n",
       "      <td>Democratic Republic of the Congo</td>\n",
       "      <td>Zaire virus</td>\n",
       "      <td>32</td>\n",
       "      <td>15</td>\n",
       "      <td>0.470</td>\n",
       "    </tr>\n",
       "  </tbody>\n",
       "</table>\n",
       "</div>"
      ],
      "text/plain": [
       "  Start_Datetime_new  Start date End_Datetime_new    End date  \\\n",
       "0         2012-11-01  2012-11-01       2013-01-31  2013-01-31   \n",
       "1         2012-06-01  2012-06-01       2012-11-30  2012-11-30   \n",
       "2         2012-06-01  2012-06-01       2012-10-31  2012-10-31   \n",
       "3         2011-05-01  2011-05-01       2011-05-01  2011-05-01   \n",
       "4         2008-12-01  2008-12-01       2009-02-28  2009-02-28   \n",
       "\n",
       "   Duration (days)                      Year(s)  \\\n",
       "0             91.0   November 2012-January 2013   \n",
       "1            182.0           June-November 2012   \n",
       "2            152.0            June-October 2012   \n",
       "3              0.0                   2011-05-01   \n",
       "4             89.0  December 2008-February 2009   \n",
       "\n",
       "                            Country     Ebola subtype  \\\n",
       "0                            Uganda       Sudan virus   \n",
       "1  Democratic Republic of the Congo  Bundibugyo virus   \n",
       "2                            Uganda       Sudan virus   \n",
       "3                            Uganda       Sudan virus   \n",
       "4  Democratic Republic of the Congo       Zaire virus   \n",
       "\n",
       "   Reported number of human cases  Reported number of deaths among cases  \\\n",
       "0                               6                                      3   \n",
       "1                              36                                     13   \n",
       "2                              11                                      4   \n",
       "3                               1                                      1   \n",
       "4                              32                                     15   \n",
       "\n",
       "   Reported % of deaths among cases  \n",
       "0                             0.500  \n",
       "1                             0.361  \n",
       "2                             0.364  \n",
       "3                             1.000  \n",
       "4                             0.470  "
      ]
     },
     "execution_count": 15,
     "metadata": {},
     "output_type": "execute_result"
    }
   ],
   "source": [
    "df_ebola.head()"
   ]
  },
  {
   "cell_type": "code",
   "execution_count": 17,
   "metadata": {
    "collapsed": true
   },
   "outputs": [],
   "source": [
    "df_ebola.to_csv(\"data/out/ebola-outbreaks-before-2014-dates.csv\")"
   ]
  }
 ],
 "metadata": {
  "anaconda-cloud": {},
  "kernelspec": {
   "display_name": "Python [conda root]",
   "language": "python",
   "name": "conda-root-py"
  },
  "language_info": {
   "codemirror_mode": {
    "name": "ipython",
    "version": 3
   },
   "file_extension": ".py",
   "mimetype": "text/x-python",
   "name": "python",
   "nbconvert_exporter": "python",
   "pygments_lexer": "ipython3",
   "version": "3.5.2"
  }
 },
 "nbformat": 4,
 "nbformat_minor": 0
}
